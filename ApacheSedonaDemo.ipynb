{
 "cells": [
  {
   "cell_type": "code",
   "execution_count": null,
   "id": "80529e61-7924-4f7f-ab00-c82a9bed8553",
   "metadata": {},
   "outputs": [],
   "source": [
    "from pyspark.sql import SparkSession\n",
    "from pyspark import StorageLevel\n",
    "import geopandas as gpd\n",
    "import pandas as pd\n",
    "from pyspark.sql.types import StructType\n",
    "from pyspark.sql.types import StructField\n",
    "from pyspark.sql.types import StringType\n",
    "from pyspark.sql.types import LongType\n",
    "from shapely.geometry import Point\n",
    "from shapely.geometry import Polygon\n",
    "\n",
    "from sedona.register import SedonaRegistrator\n",
    "from sedona.core.SpatialRDD import SpatialRDD\n",
    "from sedona.core.SpatialRDD import PointRDD\n",
    "from sedona.core.SpatialRDD import PolygonRDD\n",
    "from sedona.core.SpatialRDD import LineStringRDD\n",
    "from sedona.core.enums import FileDataSplitter\n",
    "from sedona.utils.adapter import Adapter\n",
    "from sedona.core.spatialOperator import KNNQuery\n",
    "from sedona.core.spatialOperator import JoinQuery\n",
    "from sedona.core.spatialOperator import JoinQueryRaw\n",
    "from sedona.core.spatialOperator import RangeQuery\n",
    "from sedona.core.spatialOperator import RangeQueryRaw\n",
    "from sedona.core.formatMapper.shapefileParser import ShapefileReader\n",
    "from sedona.core.formatMapper import WkbReader\n",
    "from sedona.core.formatMapper import WktReader\n",
    "from sedona.core.formatMapper import GeoJsonReader\n",
    "from sedona.sql.types import GeometryType\n",
    "from sedona.core.enums import GridType\n",
    "from sedona.core.SpatialRDD import RectangleRDD\n",
    "from sedona.core.enums import IndexType\n",
    "from sedona.core.geom.envelope import Envelope\n",
    "from sedona.utils import SedonaKryoRegistrator, KryoSerializer"
   ]
  },
  {
   "cell_type": "code",
   "execution_count": null,
   "id": "79812214-c89f-4cf9-9c2d-2adb429d6ad6",
   "metadata": {},
   "outputs": [],
   "source": [
    "spark = SparkSession\\\n",
    "    .builder\\\n",
    "    .master('yarn')\\\n",
    "    .config('spark.yarn.am.memory','7g')\\\n",
    "    .config('spark.yarn.am.cores','4')\\\n",
    "    .config('spark.executor.memory','7g')\\\n",
    "    .config('spark.executor.cores','4')\\\n",
    "    .config('spark.executor.instances','11')\\\n",
    "    .appName(\"SedonaDemo\")\\\n",
    "    .config(\"spark.serializer\", KryoSerializer.getName)\\\n",
    "    .config(\"spark.kryo.registrator\", SedonaKryoRegistrator.getName)\\\n",
    "    .config(\"spark.jars.packages\", \"org.apache.sedona:sedona-python-adapter-3.0_2.12:1.2.0-incubating,org.datasyslab:geotools-wrapper:1.1.0-25.2\")\\\n",
    "    .getOrCreate()"
   ]
  },
  {
   "cell_type": "code",
   "execution_count": null,
   "id": "2c55a743-200e-4039-beec-09ed007e7a80",
   "metadata": {},
   "outputs": [],
   "source": [
    "spark.conf.set(\"spark.sql.execution.arrow.pyspark.enabled\", True)\n",
    "#spark.conf.set(\"spark.kryoserializer.buffer.max.mb\", \"4096\")"
   ]
  },
  {
   "cell_type": "code",
   "execution_count": null,
   "id": "99006851-8dca-4270-98df-1efa1ad3ba19",
   "metadata": {},
   "outputs": [],
   "source": [
    "import pyspark.pandas as ps\n",
    "ps.set_option(\"compute.default_index_type\", \"distributed\")"
   ]
  },
  {
   "cell_type": "code",
   "execution_count": null,
   "id": "388735fa-3ae5-49fd-9239-c7385d4d4d7b",
   "metadata": {},
   "outputs": [],
   "source": [
    "sc = spark.sparkContext"
   ]
  },
  {
   "cell_type": "code",
   "execution_count": null,
   "id": "64efd42f-94a7-4452-b086-de52f3d8211f",
   "metadata": {},
   "outputs": [],
   "source": [
    "SedonaRegistrator.registerAll(spark)"
   ]
  },
  {
   "cell_type": "markdown",
   "id": "fc6badd9-a9f5-4798-b909-093fe781c5c0",
   "metadata": {},
   "source": [
    "#### 房屋環域圖層"
   ]
  },
  {
   "cell_type": "code",
   "execution_count": null,
   "id": "62b47b04-a4e6-4337-b058-7b5f52044dfc",
   "metadata": {},
   "outputs": [],
   "source": [
    "from concurrent.futures import ThreadPoolExecutor\n",
    "from time import sleep, perf_counter\n",
    "\n",
    "house_layer = {}\n",
    "\n",
    "def house_buffer(city_name,file):\n",
    "    print(f'Starting the buffer {file}_layer')\n",
    "    house_rdd = ShapefileReader.readToGeometryRDD(sc, f\"data/shp/{city_name}/{file}\")\n",
    "    house_rdd.analyze()\n",
    "    house_rdd.spatialPartitioning(GridType.KDBTREE)\n",
    "    print(f'Finished the buffer {file}_layer')\n",
    "    return house_rdd\n",
    "\n",
    "\n",
    "with ThreadPoolExecutor() as excutor:\n",
    "    house_rdd_250_futures = excutor.submit(house_buffer,'NTPC',250)\n",
    "    house_rdd_500_futures = excutor.submit(house_buffer,'NTPC',500)\n",
    "    house_rdd_750_futures = excutor.submit(house_buffer,'NTPC',750)\n",
    "    \n",
    "house_layer['house_rdd_250'] = house_rdd_250_futures.result()\n",
    "house_layer['house_rdd_500'] = house_rdd_500_futures.result()\n",
    "house_layer['house_rdd_750'] = house_rdd_750_futures.result()"
   ]
  },
  {
   "cell_type": "code",
   "execution_count": null,
   "id": "6f45d14d-35ea-4481-8129-26f0c5d621b1",
   "metadata": {},
   "outputs": [],
   "source": [
    "print(house_layer)"
   ]
  },
  {
   "cell_type": "markdown",
   "id": "5e31d00f-54b1-432a-a69f-ddf7e1e1e2b5",
   "metadata": {},
   "source": [
    "#### 設施圖層"
   ]
  },
  {
   "cell_type": "code",
   "execution_count": null,
   "id": "1b13c717-232c-4d93-a29d-e4facbccd96f",
   "metadata": {},
   "outputs": [],
   "source": [
    "def import_facilities_layer(facility):\n",
    "    layer_rdd = ShapefileReader.readToGeometryRDD(sc, f\"data/shp/{facility}\")\n",
    "    layer_rdd.analyze()\n",
    "    layer_rdd.spatialPartitioning(GridType.KDBTREE)\n",
    "    return layer_rdd\n",
    "\n",
    "layers = {}\n",
    "\n",
    "with ThreadPoolExecutor() as excutor:\n",
    "    layers['cemetery_rdd_futures'] = excutor.submit(import_facilities_layer,'cemetery')\n",
    "    layers['park_rdd_futures'] = excutor.submit(import_facilities_layer,'park')\n",
    "    layers['parking_rdd_futures'] = excutor.submit(import_facilities_layer,'parking')\n",
    "    layers['riverTW_rdd_futures'] = excutor.submit(import_facilities_layer,'river_TW')\n",
    "    layers['LRT_rdd_futures'] = excutor.submit(import_facilities_layer,'LRT')\n",
    "    layers['MRT_rdd_futures'] = excutor.submit(import_facilities_layer,'MRT')\n",
    "    layers['TRA_rdd_futures'] = excutor.submit(import_facilities_layer,'TRA')\n",
    "    layers['busstop_rdd_futures'] = excutor.submit(import_facilities_layer,'busstop')\n",
    "    layers['clinic_rdd_futures'] = excutor.submit(import_facilities_layer,'clinic')\n",
    "    layers['conveniencestore_rdd_futures'] = excutor.submit(import_facilities_layer,'conveniencestore')\n",
    "    layers['dentist_rdd_futures'] = excutor.submit(import_facilities_layer,'dentist')\n",
    "    layers['fastfood_rdd_futures'] = excutor.submit(import_facilities_layer,'fastfood')\n",
    "    layers['firestation_rdd_futures'] = excutor.submit(import_facilities_layer,'firestation')\n",
    "    layers['fuel_rdd_futures'] = excutor.submit(import_facilities_layer,'fuel')\n",
    "    layers['hospital_rdd_futures'] = excutor.submit(import_facilities_layer,'hospital')\n",
    "    layers['library_rdd_futures'] = excutor.submit(import_facilities_layer,'library')\n",
    "    layers['market_rdd_futures'] = excutor.submit(import_facilities_layer,'market')\n",
    "    layers['pharmacy_rdd_futures'] = excutor.submit(import_facilities_layer,'pharmacy')\n",
    "    layers['placeofworkship_rdd_futures'] = excutor.submit(import_facilities_layer,'placeofworkship')\n",
    "    layers['police_rdd_futures'] = excutor.submit(import_facilities_layer,'police')\n",
    "    layers['school_rdd_futures'] = excutor.submit(import_facilities_layer,'school')\n",
    "    layers['universuty_rdd_futures'] = excutor.submit(import_facilities_layer,'university')\n",
    "\n",
    "layers_rdd = {}\n",
    "for i, (k, v) in enumerate(layers.items()):\n",
    "    layers_rdd[k] = v.result()"
   ]
  },
  {
   "cell_type": "code",
   "execution_count": null,
   "id": "6a6924f2-2a14-4cb5-96ef-1310fd8bae73",
   "metadata": {},
   "outputs": [],
   "source": [
    "print(layers_rdd)"
   ]
  },
  {
   "cell_type": "markdown",
   "id": "bf83d94e-c0b7-4c7d-84b1-7feb60f52939",
   "metadata": {},
   "source": [
    "#### 環域分析"
   ]
  },
  {
   "cell_type": "code",
   "execution_count": null,
   "id": "1f4584c6-e0d6-4e42-a989-6f05bb922cff",
   "metadata": {},
   "outputs": [],
   "source": [
    "from pyspark.sql.types import DoubleType\n",
    "from pyspark.sql.types import IntegerType\n",
    "\n",
    "def insect_area_layer(layer_rdd, house_rdd):\n",
    "    # partitioning the data\n",
    "    layer_rdd2 = layer_rdd\n",
    "    house_rdd2 = house_rdd\n",
    "    layer_rdd2.spatialPartitioning(GridType.KDBTREE)\n",
    "    house_rdd2.spatialPartitioning(layer_rdd2.getPartitioner())\n",
    "    # building an index\n",
    "    layer_rdd2.buildIndex(IndexType.RTREE, True)\n",
    "    \n",
    "    result = JoinQuery.SpatialJoinQueryFlat(layer_rdd2, house_rdd2, False, True)\n",
    "    result2 = result.map(lambda x: [x[0].getUserData(), x[1].geom.area])\n",
    "    \n",
    "    schema = StructType([\n",
    "      StructField(\"IDX\", StringType(), False),\n",
    "      StructField(\"Area\", DoubleType(), False)\n",
    "    ])\n",
    "    \n",
    "    result_spark = spark.createDataFrame(result2, schema, verifySchema=False)\n",
    "    result_spark = result_spark.withColumn(\"IDX_int\", result_spark[\"IDX\"].cast(IntegerType()))\n",
    "    result_spark = result_spark.drop(\"IDX\")\n",
    "\n",
    "    result_group_area = result_spark.groupBy(\"IDX_int\").sum()\n",
    "    result_group_area = result_group_area.drop(\"sum(IDX_int)\")\n",
    "    #for_group_result = result_group_area.toPandas()\n",
    "    return result_group_area\n",
    "    #return for_group_result\n",
    "\n",
    "def insect_point_layer(layer_rdd, house_rdd):\n",
    "    # partitioning the data\n",
    "    layer_rdd2 = layer_rdd\n",
    "    house_rdd2 = house_rdd\n",
    "    layer_rdd2.spatialPartitioning(GridType.KDBTREE)\n",
    "    house_rdd2.spatialPartitioning(layer_rdd2.getPartitioner())\n",
    "    # building an index\n",
    "    layer_rdd2.buildIndex(IndexType.RTREE, True)\n",
    "    \n",
    "    result = JoinQuery.SpatialJoinQueryFlat(layer_rdd2, house_rdd2, False, True)\n",
    "    result2 = result.map(lambda x: [x[0].getUserData()])\n",
    "    \n",
    "    schema = StructType([\n",
    "      StructField(\"IDX\", StringType(), False)\n",
    "    ])\n",
    "    \n",
    "    result_spark = spark.createDataFrame(result2, schema, verifySchema=False)\n",
    "    result_spark = result_spark.withColumn(\"IDX_int\", result_spark[\"IDX\"].cast(IntegerType()))\n",
    "    result_spark = result_spark.drop(\"IDX\")\n",
    "\n",
    "    result_group_count = result_spark.groupBy(\"IDX_int\").count()\n",
    "    #for_group_result = result_group_area.toPandas()\n",
    "    return result_group_count\n",
    "    #return for_group_result"
   ]
  },
  {
   "cell_type": "code",
   "execution_count": null,
   "id": "32229345-cd66-46cb-8736-aba1cff7b921",
   "metadata": {},
   "outputs": [],
   "source": [
    "insection_layer = {}\n",
    "col = 1\n",
    "for house_idx, (housr_layer_name, house_layer_obj) in enumerate(house_layer.items()):\n",
    "    for i, (k, v) in enumerate(layers_rdd.items()):\n",
    "        if i < 4:\n",
    "            insection_layer[str(k)+str(250*(house_idx+1))] = insect_area_layer(v, house_layer_obj)\n",
    "        else:\n",
    "            insection_layer[str(k)+str(250*(house_idx+1))] = insect_point_layer(v, house_layer_obj)\n",
    "print(insection_layer)"
   ]
  },
  {
   "cell_type": "code",
   "execution_count": null,
   "id": "887eb783-2e06-4c92-8e49-81744ccaf3cf",
   "metadata": {},
   "outputs": [],
   "source": [
    "df = insection_layer['cemetery_rdd_futures250'].withColumnRenamed('sum(area)', 'cemetery_rdd_futures250')\n",
    "for i, (k, v) in enumerate(insection_layer.items()):\n",
    "    if i == 0:\n",
    "        continue\n",
    "    elif i > 0 and i < 4:\n",
    "        df = df.join(v.withColumnRenamed('sum(area)', str(k)),[\"IDX_int\"] , 'outer')\n",
    "    elif i > 21 and i < 26:\n",
    "        df = df.join(v.withColumnRenamed('sum(area)', str(k)),[\"IDX_int\"] , 'outer')\n",
    "    elif i > 43 and i < 48:\n",
    "        df = df.join(v.withColumnRenamed('sum(area)', str(k)),[\"IDX_int\"] , 'outer')\n",
    "    else:\n",
    "        df = df.join(v.withColumnRenamed('count', str(k)),[\"IDX_int\"] , 'outer')"
   ]
  },
  {
   "cell_type": "code",
   "execution_count": null,
   "id": "2e46cd6b-588d-4416-94f3-cfb5aea6201a",
   "metadata": {},
   "outputs": [],
   "source": [
    "print(df)"
   ]
  },
  {
   "cell_type": "code",
   "execution_count": null,
   "id": "4d5bb0e6-ab77-4bd1-b4de-91c02f560c66",
   "metadata": {},
   "outputs": [],
   "source": [
    "result_pdf = df.select(\"*\").toPandas()"
   ]
  },
  {
   "cell_type": "code",
   "execution_count": null,
   "id": "49ae476b-4445-43ad-8538-f04009bcff3c",
   "metadata": {},
   "outputs": [],
   "source": []
  },
  {
   "cell_type": "code",
   "execution_count": null,
   "id": "b62446cf-9083-4cfa-a6d1-b250420f235d",
   "metadata": {},
   "outputs": [],
   "source": []
  },
  {
   "cell_type": "code",
   "execution_count": null,
   "id": "ce2b87e2-4d40-4dd1-82c0-52abe1996dac",
   "metadata": {},
   "outputs": [],
   "source": []
  },
  {
   "cell_type": "code",
   "execution_count": null,
   "id": "a9044d38-9bee-46fc-9929-8054aefb8402",
   "metadata": {},
   "outputs": [],
   "source": []
  },
  {
   "cell_type": "code",
   "execution_count": null,
   "id": "bfa32f3e-a2d5-4e3d-afde-63d3f293638e",
   "metadata": {},
   "outputs": [],
   "source": []
  },
  {
   "cell_type": "code",
   "execution_count": null,
   "id": "268bba98-46e7-41b5-ab49-944adb882ca3",
   "metadata": {},
   "outputs": [],
   "source": [
    "# df = cemetery_insect_250.withColumnRenamed('sum(area)', '1').withColumnRenamed('sum(idx_int)', '2') \\\n",
    "# .join(cemetery_insect_500.withColumnRenamed('sum(area)', '3').withColumnRenamed('sum(idx_int)', '4'),[\"IDX_int\"],'outer') \\\n",
    "# .join(cemetery_insect_750.withColumnRenamed('sum(area)', '5').withColumnRenamed('sum(idx_int)', '6'),[\"IDX_int\"],'outer') \\\n",
    "# .join(park_insect_250.withColumnRenamed('sum(area)', '7').withColumnRenamed('sum(idx_int)', '8'),[\"IDX_int\"],'outer') \\\n",
    "# .join(park_insect_500.withColumnRenamed('sum(area)', '9').withColumnRenamed('sum(idx_int)', '10'),[\"IDX_int\"],'outer') \\\n",
    "# .join(park_insect_750.withColumnRenamed('sum(area)', '11').withColumnRenamed('sum(idx_int)', '12'),[\"IDX_int\"],'outer') \\\n",
    "# .join(parking_insect_250.withColumnRenamed('sum(area)', '13').withColumnRenamed('sum(idx_int)', '14'),[\"IDX_int\"],'outer') \\\n",
    "# .join(parking_insect_500.withColumnRenamed('sum(area)', '15').withColumnRenamed('sum(idx_int)', '16'),[\"IDX_int\"],'outer') \\\n",
    "# .join(parking_insect_750.withColumnRenamed('sum(area)', '17').withColumnRenamed('sum(idx_int)', '18'),[\"IDX_int\"],'outer') \\\n",
    "# .join(riverTW_insect_250.withColumnRenamed('sum(area)', '19').withColumnRenamed('sum(idx_int)', '20'),[\"IDX_int\"],'outer') \\\n",
    "# .join(riverTW_insect_500.withColumnRenamed('sum(area)', '21').withColumnRenamed('sum(idx_int)', '22'),[\"IDX_int\"],'outer') \\\n",
    "# .join(riverTW_insect_750.withColumnRenamed('sum(area)', '23').withColumnRenamed('sum(idx_int)', '24'),[\"IDX_int\"],'outer') \\\n",
    "# .join(LRT_insect_250.withColumnRenamed('count', '25'),[\"IDX_int\"],'outer') \\\n",
    "# .join(LRT_insect_500.withColumnRenamed('count', '26'),[\"IDX_int\"],'outer') \\\n",
    "# .join(LRT_insect_750.withColumnRenamed('count', '27'),[\"IDX_int\"],'outer') \\\n",
    "# .join(MRT_insect_250.withColumnRenamed('count', '28'),[\"IDX_int\"],'outer') \\\n",
    "# .join(MRT_insect_500.withColumnRenamed('count', '29'),[\"IDX_int\"],'outer') \\\n",
    "# .join(MRT_insect_750.withColumnRenamed('count', '30'),[\"IDX_int\"],'outer') \\\n",
    "# .join(TRA_insect_250.withColumnRenamed('count', '31'),[\"IDX_int\"],'outer') \\\n",
    "# .join(TRA_insect_500.withColumnRenamed('count', '32'),[\"IDX_int\"],'outer') \\\n",
    "# .join(TRA_insect_750.withColumnRenamed('count', '33'),[\"IDX_int\"],'outer') \\\n",
    "# .join(busstop_insect_250.withColumnRenamed('count', '34'),[\"IDX_int\"],'outer') \\\n",
    "# .join(busstop_insect_500.withColumnRenamed('count', '35'),[\"IDX_int\"],'outer') \\\n",
    "# .join(busstop_insect_750.withColumnRenamed('count', '36'),[\"IDX_int\"],'outer') \\\n",
    "# .join(clinic_insect_250.withColumnRenamed('count', '37'),[\"IDX_int\"],'outer') \\\n",
    "# .join(clinic_insect_500.withColumnRenamed('count', '38'),[\"IDX_int\"],'outer') \\\n",
    "# .join(clinic_insect_750.withColumnRenamed('count', '39'),[\"IDX_int\"],'outer') \\\n",
    "# .join(conveniencestore_insect_250.withColumnRenamed('count', '40'),[\"IDX_int\"],'outer') \\\n",
    "# .join(conveniencestore_insect_500.withColumnRenamed('count', '41'),[\"IDX_int\"],'outer') \\\n",
    "# .join(conveniencestore_insect_750.withColumnRenamed('count', '42'),[\"IDX_int\"],'outer') \\\n",
    "# .join(dentist_insect_250.withColumnRenamed('count', '43'),[\"IDX_int\"],'outer') \\\n",
    "# .join(dentist_insect_500.withColumnRenamed('count', '44'),[\"IDX_int\"],'outer') \\\n",
    "# .join(dentist_insect_750.withColumnRenamed('count', '45'),[\"IDX_int\"],'outer') \\\n",
    "# .join(fastfood_insect_250.withColumnRenamed('count', '46'),[\"IDX_int\"],'outer') \\\n",
    "# .join(fastfood_insect_500.withColumnRenamed('count', '47'),[\"IDX_int\"],'outer') \\\n",
    "# .join(fastfood_insect_750.withColumnRenamed('count', '48'),[\"IDX_int\"],'outer') \\\n",
    "# .join(firestation_insect_250.withColumnRenamed('count', '49'),[\"IDX_int\"],'outer') \\\n",
    "# .join(firestation_insect_500.withColumnRenamed('count', '50'),[\"IDX_int\"],'outer') \\\n",
    "# .join(firestation_insect_750.withColumnRenamed('count', '51'),[\"IDX_int\"],'outer') \\\n",
    "# .join(fuel_insect_250.withColumnRenamed('count', '52'),[\"IDX_int\"],'outer') \\\n",
    "# .join(fuel_insect_500.withColumnRenamed('count', '53'),[\"IDX_int\"],'outer') \\\n",
    "# .join(fuel_insect_750.withColumnRenamed('count', '54'),[\"IDX_int\"],'outer') \\\n",
    "# .join(hospital_insect_250.withColumnRenamed('count', '55'),[\"IDX_int\"],'outer') \\\n",
    "# .join(hospital_insect_500.withColumnRenamed('count', '56'),[\"IDX_int\"],'outer') \\\n",
    "# .join(hospital_insect_750.withColumnRenamed('count', '57'),[\"IDX_int\"],'outer') \\\n",
    "# .join(school_insect_250.withColumnRenamed('count', '58'),[\"IDX_int\"],'outer') \\\n",
    "# .join(school_insect_500.withColumnRenamed('count', '59'),[\"IDX_int\"],'outer') \\\n",
    "# .join(school_insect_750.withColumnRenamed('count', '60'),[\"IDX_int\"],'outer') \\\n",
    "# .join(university_insect_250.withColumnRenamed('count', '61'),[\"IDX_int\"],'outer') \\\n",
    "# .join(university_insect_500.withColumnRenamed('count', '62'),[\"IDX_int\"],'outer') \\\n",
    "# .join(university_insect_750.withColumnRenamed('count', '63'),[\"IDX_int\"],'outer') \\\n",
    "# .join(library_insect_250.withColumnRenamed('count', '64'),[\"IDX_int\"],'outer') \\\n",
    "# .join(library_insect_500.withColumnRenamed('count', '65'),[\"IDX_int\"],'outer') \\\n",
    "# .join(library_insect_750.withColumnRenamed('count', '66'),[\"IDX_int\"],'outer') \\\n",
    "# .join(market_insect_250.withColumnRenamed('count', '67'),[\"IDX_int\"],'outer') \\\n",
    "# .join(market_insect_500.withColumnRenamed('count', '68'),[\"IDX_int\"],'outer') \\\n",
    "# .join(market_insect_750.withColumnRenamed('count', '69'),[\"IDX_int\"],'outer') \\\n",
    "# .join(pharmacy_insect_250.withColumnRenamed('count', '70'),[\"IDX_int\"],'outer') \\\n",
    "# .join(pharmacy_insect_500.withColumnRenamed('count', '71'),[\"IDX_int\"],'outer') \\\n",
    "# .join(pharmacy_insect_750.withColumnRenamed('count', '72'),[\"IDX_int\"],'outer') \\\n",
    "# .join(placeofworkship_insect_250.withColumnRenamed('count', '73'),[\"IDX_int\"],'outer') \\\n",
    "# .join(placeofworkship_insect_500.withColumnRenamed('count', '74'),[\"IDX_int\"],'outer') \\\n",
    "# .join(placeofworkship_insect_750.withColumnRenamed('count', '75'),[\"IDX_int\"],'outer') \\\n",
    "# .join(police_insect_250.withColumnRenamed('count', '76'),[\"IDX_int\"],'outer') \\\n",
    "# .join(police_insect_500.withColumnRenamed('count', '77'),[\"IDX_int\"],'outer') \\\n",
    "# .join(police_insect_750.withColumnRenamed('count', '78'),[\"IDX_int\"],'outer') \\\n",
    "# .collect()\n",
    "# .write.csv('data/sedona_df.csv')"
   ]
  },
  {
   "cell_type": "code",
   "execution_count": null,
   "id": "f8e95289-cf25-43f3-ab95-b175084b5af4",
   "metadata": {},
   "outputs": [],
   "source": [
    "# spark_df.shape"
   ]
  },
  {
   "cell_type": "code",
   "execution_count": null,
   "id": "17b083a2-168e-4975-ade5-ed7d2283dd96",
   "metadata": {},
   "outputs": [],
   "source": [
    "# spark_df"
   ]
  },
  {
   "cell_type": "code",
   "execution_count": null,
   "id": "efed5af5-8428-4925-9b4a-3eaa4f1fb8b1",
   "metadata": {},
   "outputs": [],
   "source": []
  },
  {
   "cell_type": "code",
   "execution_count": null,
   "id": "9dbc49fa-1ff0-4e7d-be79-8945c685234b",
   "metadata": {},
   "outputs": [],
   "source": []
  },
  {
   "cell_type": "code",
   "execution_count": null,
   "id": "7376ace5-9965-4ae8-b380-10388a727f6b",
   "metadata": {},
   "outputs": [],
   "source": []
  },
  {
   "cell_type": "code",
   "execution_count": null,
   "id": "4cafaf89-392e-4a39-ab74-a76bd613f9b9",
   "metadata": {},
   "outputs": [],
   "source": []
  },
  {
   "cell_type": "code",
   "execution_count": null,
   "id": "4b16a25b-5654-4490-881e-d93cf7858ee9",
   "metadata": {},
   "outputs": [],
   "source": [
    "# def export_pandas(layer):\n",
    "#     # partitioning the data\n",
    "#     # print(f'Starting the export dataframe_{layer}')\n",
    "#     layer = layer.collent()\n",
    "#     for_group_result = layer.toPandas()\n",
    "#     # print(f'Finished the export dataframe_{layer}')\n",
    "#     return for_group_result"
   ]
  },
  {
   "cell_type": "code",
   "execution_count": null,
   "id": "d2cba0f7-fa2b-41da-8b79-b1495812b287",
   "metadata": {},
   "outputs": [],
   "source": [
    "# with ThreadPoolExecutor(max_workers=11) as excutor:\n",
    "#     cemetery_250 = excutor.submit(export_pandas,cemetery_insect_250)\n",
    "#     cemetery_500 = excutor.submit(export_pandas,cemetery_insect_500)\n",
    "#     cemetery_750 = excutor.submit(export_pandas,cemetery_insect_750)\n",
    "    \n",
    "#     park_250 = excutor.submit(export_pandas,park_insect_250)\n",
    "#     park_500 = excutor.submit(export_pandas,park_insect_500)\n",
    "#     park_750 = excutor.submit(export_pandas,park_insect_750)\n",
    "    \n",
    "#     parking_250 = excutor.submit(export_pandas,parking_insect_250)\n",
    "#     parking_500 = excutor.submit(export_pandas,parking_insect_500)\n",
    "#     parking_750 = excutor.submit(export_pandas,parking_insect_750)\n",
    "    \n",
    "#     riverTW_250 = excutor.submit(export_pandas,riverTW_insect_250)\n",
    "#     riverTW_500 = excutor.submit(export_pandas,riverTW_insect_500)\n",
    "#     riverTW_750 = excutor.submit(export_pandas,riverTW_insect_750)\n",
    "    \n",
    "#     LRT_250 = excutor.submit(export_pandas,LRT_insect_250)\n",
    "#     LRT_500 = excutor.submit(export_pandas,LRT_insect_500)\n",
    "#     LRT_750 = excutor.submit(export_pandas,LRT_insect_750)\n",
    "    \n",
    "#     MRT_250 = excutor.submit(export_pandas,MRT_insect_250)\n",
    "#     MRT_500 = excutor.submit(export_pandas,MRT_insect_500)\n",
    "#     MRT_750 = excutor.submit(export_pandas,MRT_insect_750)\n",
    "    \n",
    "#     TRA_250 = excutor.submit(export_pandas,TRA_insect_250)\n",
    "#     TRA_500 = excutor.submit(export_pandas,TRA_insect_500)\n",
    "#     TRA_750 = excutor.submit(export_pandas,TRA_insect_750)\n",
    "    \n",
    "#     busstop_250 = excutor.submit(export_pandas,busstop_insect_250)\n",
    "#     busstop_500 = excutor.submit(export_pandas,busstop_insect_500)\n",
    "#     busstop_750 = excutor.submit(export_pandas,busstop_insect_750)\n",
    "    \n",
    "#     clinic_250 = excutor.submit(export_pandas,clinic_insect_250)\n",
    "#     clinic_500 = excutor.submit(export_pandas,clinic_insect_500)\n",
    "#     clinic_750 = excutor.submit(export_pandas,clinic_insect_750)\n",
    "    \n",
    "#     conveniencestore_250 = excutor.submit(export_pandas,conveniencestore_insect_250)\n",
    "#     conveniencestore_500 = excutor.submit(export_pandas,conveniencestore_insect_500)\n",
    "#     conveniencestore_750 = excutor.submit(export_pandas,conveniencestore_insect_750)\n",
    "    \n",
    "#     dentist_250 = excutor.submit(export_pandas,dentist_insect_250)\n",
    "#     dentist_500 = excutor.submit(export_pandas,dentist_insect_500)\n",
    "#     dentist_750 = excutor.submit(export_pandas,dentist_insect_750)\n",
    "    \n",
    "#     fastfood_250 = excutor.submit(export_pandas,fastfood_insect_250)\n",
    "#     fastfood_500 = excutor.submit(export_pandas,fastfood_insect_500)\n",
    "#     fastfood_750 = excutor.submit(export_pandas,fastfood_insect_750)\n",
    "    \n",
    "#     firestation_250 = excutor.submit(export_pandas,firestation_insect_250)\n",
    "#     firestation_500 = excutor.submit(export_pandas,firestation_insect_500)\n",
    "#     firestation_750 = excutor.submit(export_pandas,firestation_insect_750)\n",
    "    \n",
    "#     fuel_250 = excutor.submit(export_pandas,fuel_insect_250)\n",
    "#     fuel_500 = excutor.submit(export_pandas,fuel_insect_500)\n",
    "#     fuel_750 = excutor.submit(export_pandas,fuel_insect_750)\n",
    "    \n",
    "#     hospital_250 = excutor.submit(export_pandas,hospital_insect_250)\n",
    "#     hospital_500 = excutor.submit(export_pandas,hospital_insect_500)\n",
    "#     hospital_750 = excutor.submit(export_pandas,hospital_insect_750)\n",
    "    \n",
    "#     library_250 = excutor.submit(export_pandas,library_insect_250)\n",
    "#     library_500 = excutor.submit(export_pandas,library_insect_500)\n",
    "#     library_750 = excutor.submit(export_pandas,library_insect_750)\n",
    "    \n",
    "#     market_250 = excutor.submit(export_pandas,market_insect_250)\n",
    "#     market_500 = excutor.submit(export_pandas,market_insect_500)\n",
    "#     market_750 = excutor.submit(export_pandas,market_insect_750)\n",
    "    \n",
    "#     pharmacy_250 = excutor.submit(export_pandas,pharmacy_insect_250)\n",
    "#     pharmacy_500 = excutor.submit(export_pandas,pharmacy_insect_500)\n",
    "#     pharmacy_750 = excutor.submit(export_pandas,pharmacy_insect_750)\n",
    "    \n",
    "#     placeofworkship_250 = excutor.submit(export_pandas,placeofworkship_insect_250)\n",
    "#     placeofworkship_500 = excutor.submit(export_pandas,placeofworkship_insect_500)\n",
    "#     placeofworkship_750 = excutor.submit(export_pandas,placeofworkship_insect_750)\n",
    "    \n",
    "#     police_250 = excutor.submit(export_pandas,police_insect_250)\n",
    "#     police_500 = excutor.submit(export_pandas,police_insect_500)\n",
    "#     police_750 = excutor.submit(export_pandas,police_insect_750)\n",
    "    \n",
    "#     school_250 = excutor.submit(export_pandas,school_insect_250)\n",
    "#     school_500 = excutor.submit(export_pandas,school_insect_500)\n",
    "#     school_750 = excutor.submit(export_pandas,school_insect_750)\n",
    "    \n",
    "#     university_250 = excutor.submit(export_pandas,university_insect_250)\n",
    "#     university_500 = excutor.submit(export_pandas,university_insect_500)\n",
    "#     university_750 = excutor.submit(export_pandas,university_insect_750)"
   ]
  },
  {
   "cell_type": "code",
   "execution_count": null,
   "id": "dc21a36d-7ec7-4afe-87e5-d5d76dcf32be",
   "metadata": {},
   "outputs": [],
   "source": [
    "# cemetery_250_df = cemetery_250.result()\n",
    "# cemetery_500_df = cemetery_500.result()\n",
    "# cemetery_750_df = cemetery_750.result()\n",
    "\n",
    "# park_250_df = park_250.result()\n",
    "# park_500_df = park_500.result()\n",
    "# park_750_df = park_750.result()\n",
    "\n",
    "# parking_250_df = parking_250.result()\n",
    "# parking_500_df = parking_500.result()\n",
    "# parking_750_df = parking_750.result()\n",
    "\n",
    "# riverTW_250_df = riverTW_250.result()\n",
    "# riverTW_500_df = riverTW_500.result()\n",
    "# riverTW_750_df = riverTW_750.result()\n",
    "\n",
    "# LRT_250_df = LRT_250.result()\n",
    "# LRT_500_df = LRT_500.result()\n",
    "# LRT_750_df = LRT_750.result()\n",
    "\n",
    "# MRT_250_df = MRT_250.result()\n",
    "# MRT_500_df = MRT_500.result()\n",
    "# MRT_750_df = MRT_750.result()\n",
    "\n",
    "# TRA_250_df = TRA_250.result()\n",
    "# TRA_500v = TRA_500.result()\n",
    "# TRA_750_df = TRA_750.result()\n",
    "\n",
    "# busstop_250_df = busstop_250.result()\n",
    "# busstop_500_df = busstop_500.result()\n",
    "# busstop_750_df = busstop_750.result()\n",
    "\n",
    "# clinic_250_df = clinic_250.result()\n",
    "# clinic_500_df = clinic_500.result()\n",
    "# clinic_750_df = clinic_750.result()\n",
    "\n",
    "# conveniencestore_250_df = conveniencestore_250.result()\n",
    "# conveniencestore_500_df = conveniencestore_500.result()\n",
    "# conveniencestore_750_df = conveniencestore_750.result()\n",
    "\n",
    "# dentist_250_df = dentist_250.result()\n",
    "# dentist_500_df = dentist_500.result()\n",
    "# dentist_750_df = dentist_750.result()\n",
    "\n",
    "# fastfood_250_df = fastfood_250.result()\n",
    "# fastfood_500_df = fastfood_500.result()\n",
    "# fastfood_750_df = fastfood_750.result()\n",
    "\n",
    "# firestation_250_df = firestation_250.result()\n",
    "# firestation_500_df = firestation_500.result()\n",
    "# firestation_750_df = firestation_750.result()\n",
    "\n",
    "# fuel_250_df = fuel_250.result()\n",
    "# fuel_500_df = fuel_500.result()\n",
    "# fuel_750_df = fuel_750.result()\n",
    "\n",
    "# hospital_250_df = hospital_250.result()\n",
    "# hospital_500_df = hospital_500.result()\n",
    "# hospital_750_df = hospital_750.result()\n",
    "\n",
    "# library_250_df = library_250.result()\n",
    "# library_500_df = library_500.result()\n",
    "# library_750_df = library_750.result()\n",
    "\n",
    "# market_250_df = market_250.result()\n",
    "# market_500_df = market_500.result()\n",
    "# market_750_df = market_750.result()\n",
    "\n",
    "# pharmacy_250_df = pharmacy_250.result()\n",
    "# pharmacy_500_df = pharmacy_500.result()\n",
    "# pharmacy_750_df = pharmacy_750.result()\n",
    "\n",
    "# placeofworkship_250_df = placeofworkship_250.result()\n",
    "# placeofworkship_500_df = placeofworkship_500.result()\n",
    "# placeofworkship_750_df = placeofworkship_750.result()\n",
    "\n",
    "# police_250_df = police_250.result()\n",
    "# police_500_df = police_500.result()\n",
    "# police_750_df = police_750.result()\n",
    "\n",
    "# school_250_df = school_250.result()\n",
    "# school_500_df = school_500.result()\n",
    "# school_750_df = school_750.result()\n",
    "\n",
    "# university_250_df = university_250.result()\n",
    "# university_500_df = university_500.result()\n",
    "# university_750_df = university_750.result()"
   ]
  },
  {
   "cell_type": "code",
   "execution_count": null,
   "id": "c410e677-743e-4870-afe8-20ad01557765",
   "metadata": {},
   "outputs": [],
   "source": []
  },
  {
   "cell_type": "code",
   "execution_count": null,
   "id": "a9c80802-8eab-492d-9681-cd900faed7b8",
   "metadata": {},
   "outputs": [],
   "source": []
  },
  {
   "cell_type": "markdown",
   "id": "2206d19d-ae35-494a-b9fc-392ce3a83789",
   "metadata": {},
   "source": [
    "#### 測試語法"
   ]
  },
  {
   "cell_type": "code",
   "execution_count": null,
   "id": "db854b9f-940a-40b5-82f4-e5db096643e8",
   "metadata": {},
   "outputs": [],
   "source": [
    "# # partitioning the data\n",
    "# hospital_rdd.spatialPartitioning(GridType.KDBTREE)\n",
    "# house_rdd_250.spatialPartitioning(hospital_rdd.getPartitioner())\n",
    "# # building an index\n",
    "# hospital_rdd.buildIndex(IndexType.RTREE, True)"
   ]
  },
  {
   "cell_type": "code",
   "execution_count": null,
   "id": "d5d1960a-a653-4485-a2ad-9bdc293b4240",
   "metadata": {},
   "outputs": [],
   "source": [
    "# result = JoinQuery.SpatialJoinQueryFlat(hospital_rdd, house_rdd_250, False, True)"
   ]
  },
  {
   "cell_type": "code",
   "execution_count": null,
   "id": "6285b040-beb3-4ab6-8971-9992b8898e51",
   "metadata": {},
   "outputs": [],
   "source": [
    "#result2 = result.map(lambda x: [x[0].getUserData(), x[1].geom])\n",
    "# result2 = result.map(lambda x: [x[0].getUserData()])"
   ]
  },
  {
   "cell_type": "code",
   "execution_count": null,
   "id": "d3f09d6b-fc72-4d57-9a34-0d72c659a280",
   "metadata": {},
   "outputs": [],
   "source": [
    "# result2"
   ]
  },
  {
   "cell_type": "code",
   "execution_count": null,
   "id": "9e30d64e-e7ff-43ec-8443-6339af4f0c35",
   "metadata": {},
   "outputs": [],
   "source": []
  },
  {
   "cell_type": "code",
   "execution_count": null,
   "id": "f0f72458-8a3f-4ff5-9b02-a77dc8880442",
   "metadata": {},
   "outputs": [],
   "source": [
    "# university_insect_250.join(university_insect_500,[\"IDX_int\"],'outer') \\\n",
    "#     .join(university_insect_750,[\"IDX_int\"],'outer') \\\n",
    "#     .show()"
   ]
  },
  {
   "cell_type": "code",
   "execution_count": null,
   "id": "ef67eb43-225f-4edc-8ba3-39a0195f6650",
   "metadata": {},
   "outputs": [],
   "source": []
  },
  {
   "cell_type": "code",
   "execution_count": null,
   "id": "14af77b8-b4e9-496b-ad1e-e85ba0bc703a",
   "metadata": {},
   "outputs": [],
   "source": [
    "# schema = StructType([\n",
    "#     StructField(\"IDX\", StringType(), False),\n",
    "#     StructField(\"Count\", DoubleType(), False)\n",
    "# ])\n",
    "# schema = StructType([\n",
    "#     StructField(\"IDX\", StringType(), False)\n",
    "# ])"
   ]
  },
  {
   "cell_type": "code",
   "execution_count": null,
   "id": "1be3d95b-368d-4997-85c5-32dda43d96ec",
   "metadata": {},
   "outputs": [],
   "source": [
    "# result_spark = spark.createDataFrame(result2, schema, verifySchema=False)\n",
    "# result_spark = result_spark.withColumn(\"IDX_int\", result_spark[\"IDX\"].cast(IntegerType()))\n",
    "# result_spark = result_spark.drop(\"IDX\")\n",
    "# result_spark"
   ]
  },
  {
   "cell_type": "code",
   "execution_count": null,
   "id": "e47c3533-39a4-49e5-b314-091a9e136657",
   "metadata": {},
   "outputs": [],
   "source": [
    "# result_group_area = result_spark.groupBy(\"IDX_int\").count()\n",
    "# result_group_area"
   ]
  },
  {
   "cell_type": "code",
   "execution_count": null,
   "id": "a09991b2-ba39-4dec-91f6-d11ee7800df6",
   "metadata": {},
   "outputs": [],
   "source": [
    "# for_group_result = result_group_area.toPandas()\n",
    "#for_group_result.sort_values(by=['IDX_int'])"
   ]
  },
  {
   "cell_type": "code",
   "execution_count": null,
   "id": "9d790bdb-dac4-4567-a261-d39a22e8e312",
   "metadata": {},
   "outputs": [],
   "source": [
    "# for_group_result"
   ]
  },
  {
   "cell_type": "code",
   "execution_count": null,
   "id": "c6f69e5e-d0d8-49f0-ba83-5ba7b5a935bb",
   "metadata": {},
   "outputs": [],
   "source": [
    "#result_group_area.collect()"
   ]
  },
  {
   "cell_type": "code",
   "execution_count": null,
   "id": "53926dbf-b544-4390-84b6-7e15be4b7d83",
   "metadata": {},
   "outputs": [],
   "source": [
    "#for_group_result = result_group_area.toPandas()"
   ]
  },
  {
   "cell_type": "code",
   "execution_count": null,
   "id": "79f606d0-1187-4b5e-90e6-efbe311a738a",
   "metadata": {},
   "outputs": [],
   "source": [
    "#for_group_result.sort_values(by=['IDX_int']).head()"
   ]
  }
 ],
 "metadata": {
  "kernelspec": {
   "display_name": "Python 3 (ipykernel)",
   "language": "python",
   "name": "python3"
  },
  "language_info": {
   "codemirror_mode": {
    "name": "ipython",
    "version": 3
   },
   "file_extension": ".py",
   "mimetype": "text/x-python",
   "name": "python",
   "nbconvert_exporter": "python",
   "pygments_lexer": "ipython3",
   "version": "3.10.4"
  }
 },
 "nbformat": 4,
 "nbformat_minor": 5
}
